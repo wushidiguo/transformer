{
  "nbformat": 4,
  "nbformat_minor": 0,
  "metadata": {
    "colab": {
      "provenance": [],
      "collapsed_sections": [],
      "authorship_tag": "ABX9TyPOIzgRRk9RfCjPD9EyCbPR",
      "include_colab_link": true
    },
    "kernelspec": {
      "name": "python3",
      "display_name": "Python 3"
    },
    "language_info": {
      "name": "python"
    },
    "gpuClass": "standard",
    "accelerator": "GPU"
  },
  "cells": [
    {
      "cell_type": "markdown",
      "metadata": {
        "id": "view-in-github",
        "colab_type": "text"
      },
      "source": [
        "<a href=\"https://colab.research.google.com/github/wushidiguo/transformer/blob/main/%E5%8A%A8%E6%89%8B%E5%AE%9E%E7%8E%B0transformer.ipynb\" target=\"_parent\"><img src=\"https://colab.research.google.com/assets/colab-badge.svg\" alt=\"Open In Colab\"/></a>"
      ]
    },
    {
      "cell_type": "markdown",
      "source": [
        "### **参考：**\n",
        "#### [Attention is All You Need](https://arxiv.org/abs/1706.03762)\n",
        "#### [The Annotated Transformer](http://nlp.seas.harvard.edu/annotated-transformer/)\n"
      ],
      "metadata": {
        "id": "azPJEVn614T6"
      }
    },
    {
      "cell_type": "code",
      "execution_count": 41,
      "metadata": {
        "id": "gugQQuvLCJyv"
      },
      "outputs": [],
      "source": [
        "import time\n",
        "import copy\n",
        "import math\n",
        "\n",
        "import matplotlib.pyplot as plt\n",
        "\n",
        "import torch\n",
        "from torch import nn\n",
        "from torch import optim\n",
        "import torch.nn.functional as F"
      ]
    },
    {
      "cell_type": "code",
      "source": [
        "device = \"cuda\" if torch.cuda.is_available() else \"cpu\"\n",
        "print(device)"
      ],
      "metadata": {
        "colab": {
          "base_uri": "https://localhost:8080/"
        },
        "id": "ni1aX5SkzUXg",
        "outputId": "42afa399-2adf-4564-850b-f1e83a373b9c"
      },
      "execution_count": 42,
      "outputs": [
        {
          "output_type": "stream",
          "name": "stdout",
          "text": [
            "cuda\n"
          ]
        }
      ]
    },
    {
      "cell_type": "code",
      "source": [
        "class Embedding(nn.Module):\n",
        "    '''\n",
        "    Embedding将输入序列中的元素（取值范围0~vocab），映射为d_model维的向量\n",
        "    '''\n",
        "    def __init__(self, d_model, vocab):\n",
        "        super().__init__()\n",
        "        self.d_model = d_model\n",
        "        self.embedding = nn.Embedding(\n",
        "            num_embeddings=vocab,\n",
        "            embedding_dim=d_model,\n",
        "        )\n",
        "    \n",
        "    def forward(self, x):\n",
        "        # 遵照原文，乘上sqrt(d_model)，目的大概是调整embedding的取值范围\n",
        "        return self.embedding(x) * math.sqrt(self.d_model)\n",
        "\n",
        "def test_embedding():\n",
        "    input = torch.LongTensor([[4, 0, 3, 9], [2, 7, 3, 1]])\n",
        "    embedding = Embedding(d_model=3, vocab=10)\n",
        "    print(embedding(input))\n",
        "\n",
        "test_embedding()"
      ],
      "metadata": {
        "colab": {
          "base_uri": "https://localhost:8080/"
        },
        "id": "n7hQgkAtlgQd",
        "outputId": "4d80572f-fb22-4e6b-ae28-595ac8db02b6"
      },
      "execution_count": 43,
      "outputs": [
        {
          "output_type": "stream",
          "name": "stdout",
          "text": [
            "tensor([[[-0.3978,  0.6604, -0.2213],\n",
            "         [-0.9540, -1.3541, -0.0943],\n",
            "         [-1.6784, -0.8629,  0.0114],\n",
            "         [-1.2424, -1.3073,  0.5360]],\n",
            "\n",
            "        [[-1.2561,  2.0146, -2.3181],\n",
            "         [ 2.0068,  1.9864, -0.3942],\n",
            "         [-1.6784, -0.8629,  0.0114],\n",
            "         [ 0.8009,  0.8205,  0.0665]]], grad_fn=<MulBackward0>)\n"
          ]
        }
      ]
    },
    {
      "cell_type": "code",
      "source": [
        "class PositionEncoder(nn.Module):\n",
        "    '''\n",
        "    原文中指出选择这种编码的原因是:对于固定的偏移k，\n",
        "    PE_{pos+k}可以表示为PE_pos的线性方程，因此模型比较容易学习到位置关系：\n",
        "    PE_{pos+k} = sin(pos+k) = cos(pos)sin(k)+sin(pos)cos(k) = w*PE_pos+b\n",
        "    '''\n",
        "    def __init__(self, d_model, max_len=5000, dropout=0.1):\n",
        "        super().__init__()\n",
        "        self.d_model = d_model\n",
        "        self.max_len = max_len\n",
        "        self.dropout = nn.Dropout(p=dropout)\n",
        "        pe = torch.zeros((max_len, d_model))\n",
        "        position = torch.arange(0, max_len).unsqueeze(1)\n",
        "        div_term = 10000 ** - (torch.arange(0, d_model, 2) / d_model)\n",
        "        pe[:, 0::2] = torch.sin(position * div_term)\n",
        "        # 当d_model为奇数时，div_term的维数会不同\n",
        "        div_term = 10000 ** - ((torch.arange(1, d_model, 2) - 1) / d_model)\n",
        "        pe[:, 1::2] = torch.cos(position * div_term)\n",
        "\n",
        "        pe.unsqueeze_(0)\n",
        "        pe.requires_grad_(False)\n",
        "        '''\n",
        "        通过register_buffer()注册过的张量，会自动成为模型中的参数，\n",
        "        随着模型移动（gpu/cpu）移动，但是不会被optimizer更新。\n",
        "        '''\n",
        "        self.register_buffer(\"pe\", pe)\n",
        "\n",
        "    def forward(self, x):\n",
        "        assert x.size(1) <= self.max_len, \"sequence size exceeds max_len\"\n",
        "        return self.dropout(x + self.pe[:, : x.size(1)])\n",
        "\n",
        "def test_position_encoder():\n",
        "    b, p, d = 1, 100, 20\n",
        "    input = torch.zeros(b, p, d)\n",
        "    p_encoder = PositionEncoder(d_model=d, max_len=p, dropout=0)\n",
        "    output = p_encoder(input)\n",
        "    plt.plot(range(p), output[0, :, 4:8])\n",
        "    plt.xlabel(\"position\")\n",
        "    plt.ylabel(\"encoding\")\n",
        "    plt.legend([f\"dim={i}\" for i in range(4, 8)])\n",
        "    plt.show()\n",
        "\n",
        "test_position_encoder()"
      ],
      "metadata": {
        "colab": {
          "base_uri": "https://localhost:8080/",
          "height": 279
        },
        "id": "F5p8532dBJ2B",
        "outputId": "14774560-c797-43ef-9457-6cb05841baef"
      },
      "execution_count": 44,
      "outputs": [
        {
          "output_type": "display_data",
          "data": {
            "text/plain": [
              "<Figure size 432x288 with 1 Axes>"
            ],
            "image/png": "[encoded data removed]"
          },
          "metadata": {
            "needs_background": "light"
          }
        }
      ]
    },
    {
      "cell_type": "code",
      "source": [
        "class Generator(nn.Module):\n",
        "    '''\n",
        "    因为我们想使用CrossEntropyLoss，所以Generator只进行了一次映射，没有进行softmax\n",
        "    '''\n",
        "    def __init__(self, d_model, vocab):\n",
        "        super().__init__()\n",
        "        self.proj = nn.Linear(d_model, vocab)\n",
        "    \n",
        "    def forward(self, x):\n",
        "        return self.proj(x)\n",
        "\n",
        "def test_generator():\n",
        "    b, p, d, v = 3, 4, 5, 6\n",
        "    input = torch.rand(b, p, d)\n",
        "    gen = Generator(d_model=d, vocab=v)\n",
        "    print(gen(input))\n",
        "\n",
        "test_generator()"
      ],
      "metadata": {
        "id": "Mr4w-xMpZ0PG",
        "colab": {
          "base_uri": "https://localhost:8080/"
        },
        "outputId": "aede0d62-8915-452d-f302-554d5ff297c6"
      },
      "execution_count": 45,
      "outputs": [
        {
          "output_type": "stream",
          "name": "stdout",
          "text": [
            "tensor([[[ 0.4563, -0.5086,  0.8042, -0.1075, -0.1331,  0.6192],\n",
            "         [ 0.4542, -0.3907,  0.7209, -0.2246,  0.0198,  0.7991],\n",
            "         [ 0.0171, -0.3372,  0.8326, -0.0878, -0.2145,  0.7202],\n",
            "         [ 0.3981, -0.6575,  0.7996, -0.0570, -0.1691,  0.3962]],\n",
            "\n",
            "        [[ 0.8466, -0.4888,  0.4357, -0.4022,  0.1374,  0.6095],\n",
            "         [ 0.2124, -0.3324,  0.6024, -0.3253, -0.1296,  0.7765],\n",
            "         [ 0.0687, -0.4215,  0.8454,  0.0164, -0.2495,  0.5010],\n",
            "         [ 0.3121, -0.3864,  0.8076, -0.1553, -0.1339,  0.7896]],\n",
            "\n",
            "        [[ 0.6105, -0.4767,  0.5632, -0.4169,  0.1048,  0.8183],\n",
            "         [ 0.2104, -0.4318,  0.6649, -0.2698, -0.0725,  0.7126],\n",
            "         [ 0.4098, -0.3183,  0.5453, -0.3107, -0.0421,  0.7062],\n",
            "         [-0.0037, -0.1827,  0.6986, -0.2610, -0.1841,  0.9194]]],\n",
            "       grad_fn=<ViewBackward0>)\n"
          ]
        }
      ]
    },
    {
      "cell_type": "code",
      "source": [
        "class MultiHeadAttention(nn.Module):\n",
        "    '''\n",
        "    transformer中使用的MultiHeadAttention有三种，encoder中的MultiHeadAttention不使用mask，\n",
        "    qkv的输入相同；decoder第一层的MultiHeadAttention，需要mask，qkv相同；decoder第二层的\n",
        "    MultiHeadAttention，不需要mask，q来自上一层的输出，kv来自encoder。\n",
        "    '''\n",
        "    def __init__(self, d_model, nheads, mask=False, dropout=0.1):\n",
        "        assert not d_model % nheads, \"d_model must be divisible by nheads\"\n",
        "        super().__init__()\n",
        "        self.d_model = d_model\n",
        "        self.nheads = nheads\n",
        "        self.d_k = d_model // nheads\n",
        "        self.mask = mask\n",
        "        self.dropout = nn.Dropout(p=dropout)\n",
        "\n",
        "        self.proj_q = nn.Linear(d_model, d_model)\n",
        "        self.proj_k = nn.Linear(d_model, d_model)\n",
        "        self.proj_v = nn.Linear(d_model, d_model)\n",
        "\n",
        "        self.linear = nn.Linear(d_model, d_model)\n",
        "\n",
        "    def forward(self, x, memory=None):\n",
        "        '''\n",
        "        einsum是一种更直觉的矩阵乘法计算方式，只要维数对了，不需要考虑其他细节。\n",
        "        '''\n",
        "        if memory is None:\n",
        "            memory = x\n",
        "        b = x.size(0)\n",
        "        Q = self.proj_q(x).view(b, -1, self.nheads, self.d_k)\n",
        "        K = self.proj_k(memory).view(b, -1, self.nheads, self.d_k)\n",
        "        V = self.proj_v(memory).view(b, -1, self.nheads, self.d_k)\n",
        "\n",
        "        score = torch.einsum(\"nphk,nqhk->nhpq\", Q, K) / math.sqrt(self.d_k)\n",
        "        if self.mask:\n",
        "            mask = torch.triu_indices(score.size(2), score.size(3), offset=1)\n",
        "            score[:, :, mask[0], mask[1]] = float(\"-inf\")\n",
        "        score = F.softmax(score, dim=-1)\n",
        "        score = self.dropout(score)\n",
        "        attn = torch.einsum(\"nhpq,nqhk->nphk\", score, V).reshape(b, -1, self.d_model)\n",
        "        return self.linear(attn)\n",
        "\n",
        "def test_attention():\n",
        "    b, p, d = 3, 4, 10\n",
        "    input = torch.rand(b, p, d)\n",
        "    attn = MultiHeadAttention(d_model=d, nheads=2, mask=True)\n",
        "    print(attn(input))\n",
        "\n",
        "test_attention()"
      ],
      "metadata": {
        "colab": {
          "base_uri": "https://localhost:8080/"
        },
        "id": "aDJ-DVmTYA0J",
        "outputId": "2078b4ff-6528-45d9-ffcc-83e19d12a812"
      },
      "execution_count": 46,
      "outputs": [
        {
          "output_type": "stream",
          "name": "stdout",
          "text": [
            "tensor([[[-0.0289,  0.1752, -0.7373, -0.4860, -0.1653,  0.1868, -0.0219,\n",
            "           0.1652,  0.0032,  0.5626],\n",
            "         [ 0.0618,  0.1954, -0.6991, -0.4166, -0.2889,  0.0455, -0.0426,\n",
            "           0.2508, -0.0224,  0.5357],\n",
            "         [-0.0866,  0.0695, -0.4764, -0.3687, -0.2928,  0.0044, -0.1674,\n",
            "           0.2257, -0.0129,  0.4242],\n",
            "         [-0.0253,  0.1770, -0.6471, -0.4083, -0.2893, -0.0089, -0.0739,\n",
            "           0.2516, -0.0143,  0.5152]],\n",
            "\n",
            "        [[-0.0860,  0.1512, -0.7053, -0.4220, -0.2262,  0.1495,  0.0012,\n",
            "           0.2685,  0.0460,  0.4804],\n",
            "         [-0.1137, -0.0081, -0.5219, -0.2802, -0.1499,  0.2465, -0.0569,\n",
            "           0.1717,  0.0480,  0.4378],\n",
            "         [-0.0288,  0.1469, -0.6508, -0.3641, -0.1962,  0.1861, -0.0313,\n",
            "           0.2202,  0.0260,  0.4978],\n",
            "         [ 0.0501,  0.1384, -0.6884, -0.3295, -0.1966,  0.2512, -0.0206,\n",
            "           0.2438,  0.0489,  0.4885]],\n",
            "\n",
            "        [[ 0.1918,  0.1890, -0.7678, -0.3764, -0.3051,  0.1928,  0.0198,\n",
            "           0.3452,  0.0031,  0.5980],\n",
            "         [-0.1530,  0.0413, -0.3763, -0.4254, -0.2977,  0.1062, -0.2950,\n",
            "           0.2218,  0.0413,  0.2541],\n",
            "         [ 0.0207,  0.1594, -0.6841, -0.4908, -0.1970,  0.1627, -0.1008,\n",
            "           0.2400, -0.0110,  0.5207],\n",
            "         [-0.0639,  0.0972, -0.5230, -0.4018, -0.3170,  0.1068, -0.1827,\n",
            "           0.2768,  0.0592,  0.3263]]], grad_fn=<ViewBackward0>)\n"
          ]
        }
      ]
    },
    {
      "cell_type": "code",
      "source": [
        "class FeedForward(nn.Module):\n",
        "    '''\n",
        "    FeedForward就是简单的两个线性层。\n",
        "    '''\n",
        "    def __init__(self, d_model, d_ff, dropout=0.1):\n",
        "        super().__init__()\n",
        "        self.d_model = d_model\n",
        "        self.d_ff = d_ff\n",
        "        self.dropout = nn.Dropout(p=dropout)\n",
        "\n",
        "        self.proj_1 = nn.Linear(d_model, d_ff)\n",
        "        self.proj_2 = nn.Linear(d_ff, d_model)\n",
        "\n",
        "    def forward(self, x):\n",
        "        return self.dropout(self.proj_2(F.relu(self.proj_1(x))))\n",
        "\n",
        "def test_ff():\n",
        "    b, p, d = 3, 4, 5\n",
        "    input = torch.rand(b, p, d)\n",
        "    ff = FeedForward(d_model=d, d_ff=4*d)\n",
        "    print(ff(input))\n",
        "\n",
        "test_ff()"
      ],
      "metadata": {
        "colab": {
          "base_uri": "https://localhost:8080/"
        },
        "id": "J40sMNBDNb3s",
        "outputId": "8f15ffec-6f0d-4d80-bed4-c52e3e8fcaca"
      },
      "execution_count": 47,
      "outputs": [
        {
          "output_type": "stream",
          "name": "stdout",
          "text": [
            "tensor([[[-0.0122, -0.2999, -0.0766, -0.0173, -0.1680],\n",
            "         [ 0.0304, -0.4230, -0.1913, -0.1030, -0.2430],\n",
            "         [ 0.1073, -0.1550, -0.0000,  0.0463, -0.2975],\n",
            "         [-0.0082, -0.2685, -0.0000,  0.0009, -0.1884]],\n",
            "\n",
            "        [[ 0.0208, -0.2159, -0.0958,  0.0946, -0.3094],\n",
            "         [ 0.0631, -0.2841, -0.1690, -0.0466, -0.1524],\n",
            "         [ 0.0523, -0.2948, -0.0000, -0.0554, -0.1961],\n",
            "         [ 0.0872, -0.1136, -0.1922,  0.0692, -0.3200]],\n",
            "\n",
            "        [[-0.0576, -0.1937, -0.0689,  0.0519, -0.2258],\n",
            "         [ 0.0867, -0.2542, -0.2138, -0.0487, -0.0000],\n",
            "         [ 0.0800, -0.2332, -0.1088,  0.0027, -0.2030],\n",
            "         [ 0.1487, -0.2138, -0.0748, -0.0264, -0.1065]]],\n",
            "       grad_fn=<MulBackward0>)\n"
          ]
        }
      ]
    },
    {
      "cell_type": "code",
      "source": [
        "class Encoder(nn.Module):\n",
        "    def __init__(self, d_model, nheads, d_ff, dropout=0.1, n_encoders=6):\n",
        "        super().__init__()\n",
        "        self.layers = nn.ModuleList()\n",
        "        self.norms = nn.ModuleList()\n",
        "        for i in range(n_encoders):\n",
        "            self.layers.append(MultiHeadAttention(d_model=d_model, nheads=nheads, mask=False, dropout=dropout))\n",
        "            self.norms.append(nn.LayerNorm(d_model))\n",
        "            self.layers.append(FeedForward(d_model=d_model, d_ff=d_ff, dropout=dropout))\n",
        "            self.norms.append(nn.LayerNorm(d_model))\n",
        "\n",
        "    def forward(self, x):\n",
        "        for layer, norm in zip(self.layers, self.norms):\n",
        "            x = norm(layer(x) + x)\n",
        "        return x\n",
        "\n",
        "def test_encoder():\n",
        "    b, p, d = 3, 4, 10\n",
        "    input = torch.rand(b, p, d)\n",
        "    encoder = Encoder(d_model=d, nheads=5, d_ff=4*d)\n",
        "    print(encoder(input))\n",
        "\n",
        "test_encoder()"
      ],
      "metadata": {
        "colab": {
          "base_uri": "https://localhost:8080/"
        },
        "id": "H5yllgr_YNlU",
        "outputId": "148bbcbf-2131-4b83-cae9-23b91f5d812b"
      },
      "execution_count": 48,
      "outputs": [
        {
          "output_type": "stream",
          "name": "stdout",
          "text": [
            "tensor([[[-0.6312,  1.2855, -0.4243, -0.6125, -0.8742,  0.6170,  1.9405,\n",
            "          -1.5475,  0.2939, -0.0471],\n",
            "         [-1.7635,  1.1758,  0.2069, -0.2388, -1.2191,  1.2011,  1.3329,\n",
            "           0.0768,  0.0603, -0.8322],\n",
            "         [-2.0246,  1.0131, -0.5588,  1.2058, -1.0026,  0.9570,  0.8475,\n",
            "          -0.5822,  0.3168, -0.1721],\n",
            "         [-1.9181,  0.6815,  0.1971,  0.5688, -0.9706,  1.2515,  1.4426,\n",
            "          -0.8464,  0.0266, -0.4330]],\n",
            "\n",
            "        [[-1.6044,  1.2757,  0.1655, -0.0250, -1.2930, -0.1317,  1.8830,\n",
            "          -0.6738,  0.2065,  0.1972],\n",
            "         [-1.5140,  1.6543, -0.2218, -0.5236, -0.9353,  0.3513,  1.4976,\n",
            "          -0.9500,  0.7072, -0.0657],\n",
            "         [-1.4308,  1.1688,  0.0646, -0.5580, -1.1546, -0.5616,  0.7791,\n",
            "          -0.8131,  0.9245,  1.5811],\n",
            "         [-1.7355,  1.1668,  0.4079, -0.3437, -0.4356, -0.3249,  2.1126,\n",
            "          -0.7063,  0.1229, -0.2642]],\n",
            "\n",
            "        [[-1.7791,  0.8593, -0.5584, -0.2662, -0.1380,  0.2067,  1.9447,\n",
            "          -0.2340,  0.9351, -0.9701],\n",
            "         [-2.1677,  0.6032,  0.1065, -0.4389, -0.1870,  0.6759,  1.3094,\n",
            "          -1.2350,  0.9040,  0.4296],\n",
            "         [-0.6173,  1.7296, -0.1286, -0.5545, -1.3573,  1.1922,  0.8375,\n",
            "          -1.1218,  0.7447, -0.7246],\n",
            "         [-0.8082,  1.2127,  0.1260,  0.2342, -1.9113,  0.4075,  0.7197,\n",
            "          -0.2340,  1.4270, -1.1736]]], grad_fn=<NativeLayerNormBackward0>)\n"
          ]
        }
      ]
    },
    {
      "cell_type": "code",
      "source": [
        "class Decoder(nn.Module):\n",
        "    def __init__(self, d_model, nheads, d_ff, dropout=0.1, n_decoders=6):\n",
        "        super().__init__()\n",
        "        self.layers = nn.ModuleList()\n",
        "        self.norms = nn.ModuleList()\n",
        "        for i in range(n_decoders):\n",
        "            self.layers.append(MultiHeadAttention(d_model=d_model, nheads=nheads, mask=True, dropout=dropout))\n",
        "            self.norms.append(nn.LayerNorm(d_model))\n",
        "            self.layers.append(MultiHeadAttention(d_model=d_model, nheads=nheads, mask=False, dropout=dropout))\n",
        "            self.norms.append(nn.LayerNorm(d_model))\n",
        "            self.layers.append(FeedForward(d_model=d_model, d_ff=d_ff, dropout=dropout))\n",
        "            self.norms.append(nn.LayerNorm(d_model))\n",
        "\n",
        "    def forward(self, x, memory):\n",
        "        for layer, norm in zip(self.layers, self.norms):\n",
        "            if isinstance(layer, MultiHeadAttention) and not layer.mask:\n",
        "                x = norm(layer(x, memory) + x) \n",
        "            else:\n",
        "                x = norm(layer(x) + x)\n",
        "        return x\n",
        "\n",
        "def test_decoder():\n",
        "    b, p, d = 3, 4, 10\n",
        "    input = torch.rand(b, p, d)\n",
        "    memory = torch.rand(b, p, d)\n",
        "    decoder = Decoder(d_model=d, nheads=5, d_ff=4*d)\n",
        "    print(decoder(input, memory))\n",
        "\n",
        "test_decoder()\n"
      ],
      "metadata": {
        "colab": {
          "base_uri": "https://localhost:8080/"
        },
        "id": "JzQFvYrMZagC",
        "outputId": "0c6c6f19-6595-4401-b3f9-643650d34b60"
      },
      "execution_count": 49,
      "outputs": [
        {
          "output_type": "stream",
          "name": "stdout",
          "text": [
            "tensor([[[ 0.6046,  0.4506, -0.7507, -0.6060, -0.4274,  1.0453, -2.1426,\n",
            "          -0.3925,  1.2072,  1.0116],\n",
            "         [ 1.3422, -0.7168,  1.2618, -0.9963, -0.4307,  0.1468, -1.5309,\n",
            "          -0.5802,  1.4874,  0.0168],\n",
            "         [ 1.4369, -0.2086,  1.6235, -1.0556, -0.2124,  0.1933, -1.9872,\n",
            "          -0.1670,  0.2641,  0.1130],\n",
            "         [ 0.9500, -0.5288,  2.3101, -1.0309,  0.1430,  0.4206, -1.3205,\n",
            "          -0.2479, -0.0529, -0.6427]],\n",
            "\n",
            "        [[ 0.8625, -0.2591,  0.6975, -1.2537,  0.7166,  0.1196, -1.8577,\n",
            "          -0.9533,  0.5250,  1.4026],\n",
            "         [ 1.5531,  0.2993,  0.4738, -0.7993,  0.4851,  0.8294, -2.2635,\n",
            "           0.3519, -0.3385, -0.5913],\n",
            "         [ 1.2687, -0.2253,  1.5283, -1.5823,  0.6410,  0.0891, -1.7059,\n",
            "          -0.2280,  0.3267, -0.1123],\n",
            "         [ 1.3265, -0.2244,  2.1211, -1.2637,  0.1236,  0.0977, -1.2448,\n",
            "           0.0493, -0.3672, -0.6182]],\n",
            "\n",
            "        [[ 1.3117, -0.8581,  1.8180, -0.2817, -0.2384, -0.2165, -1.7251,\n",
            "          -0.6754,  0.7850,  0.0805],\n",
            "         [ 0.8615, -1.0520,  1.1562, -0.9722,  0.6307,  0.7088, -1.5599,\n",
            "          -1.2104,  0.8557,  0.5817],\n",
            "         [ 1.0705, -0.6391,  1.7928, -1.5633,  0.4346,  0.1018, -1.4470,\n",
            "          -0.1843, -0.2110,  0.6450],\n",
            "         [ 2.0922, -0.2364,  1.0343, -1.0171,  0.3526,  0.3721, -1.6255,\n",
            "          -0.6768,  0.0195, -0.3149]]], grad_fn=<NativeLayerNormBackward0>)\n"
          ]
        }
      ]
    },
    {
      "cell_type": "code",
      "source": [
        "class Transformer(nn.Module):\n",
        "    def __init__(\n",
        "        self, \n",
        "        d_model=512, \n",
        "        nheads=8, \n",
        "        n_encoders=6,\n",
        "        n_decoders=6,\n",
        "        d_ff=2048, \n",
        "        vocab=1000,\n",
        "        dropout=0.1, \n",
        "        max_len=512,\n",
        "    ):\n",
        "        '''\n",
        "        参数：\n",
        "        d_model：向量长度\n",
        "        nheads：multiheadattention的head数\n",
        "        n_encoders：encoder的层数\n",
        "        n_decoders：decoder的层数 \n",
        "        n_ff：FeedForward的隐藏层维度\n",
        "        dropout：全局的dropout率\n",
        "        vocab：使用的字典长度，用于embedding，默认encoder和decoder使用相同的embedding\n",
        "        max_len：输入的最大序列长度，用于postion_encoding\n",
        "        '''\n",
        "        super().__init__()\n",
        "        self.d_model = d_model\n",
        "        self.embedding = Embedding(d_model=d_model, vocab=vocab)\n",
        "        self.position_encoder = PositionEncoder(d_model=d_model, max_len=max_len, dropout=dropout)\n",
        "        self.encoder = Encoder(d_model=d_model, nheads=nheads, d_ff=d_ff, dropout=dropout, n_encoders=n_encoders)\n",
        "        self.decoder = Decoder(d_model=d_model, nheads=nheads, d_ff=d_ff, dropout=dropout, n_decoders=n_decoders)\n",
        "        self.generator = Generator(d_model=d_model, vocab=vocab)\n",
        "        self.init_weights()\n",
        "\n",
        "    def init_weights(self):\n",
        "        for p in self.parameters():\n",
        "            if p.dim() >= 2:\n",
        "                nn.init.xavier_uniform_(p)\n",
        "\n",
        "    def forward(self, src, tgt):\n",
        "        return self.decode(tgt, self.encode(src))\n",
        "\n",
        "    def encode(self, src):\n",
        "        x = self.embedding(src)\n",
        "        x = self.position_encoder(x)\n",
        "        return self.encoder(x)\n",
        "\n",
        "    def decode(self, tgt, memory):\n",
        "        y = self.embedding(tgt)\n",
        "        y = self.position_encoder(y)\n",
        "        y = self.decoder(y, memory)\n",
        "        return self.generator(y)\n",
        "    \n",
        "def test_transformer():\n",
        "    src = torch.randint(low=0, high=10, size=(3, 10))\n",
        "    tgt = torch.randint(low=0, high=10, size=(3, 10))\n",
        "    transformer = Transformer(vocab=10)\n",
        "    print(transformer(src, tgt))\n",
        "\n",
        "test_transformer()"
      ],
      "metadata": {
        "id": "nOASYYN7mzSH",
        "colab": {
          "base_uri": "https://localhost:8080/"
        },
        "outputId": "a9b04f01-02f5-4b08-c50a-5538078c7fa1"
      },
      "execution_count": 50,
      "outputs": [
        {
          "output_type": "stream",
          "name": "stdout",
          "text": [
            "tensor([[[-0.8774, -1.3694, -1.7076,  0.7393, -1.1089,  2.3121, -1.0089,\n",
            "           0.0197,  1.1095, -1.5722],\n",
            "         [-1.4151, -1.8768, -2.4163,  1.2379, -0.5062,  1.8712, -1.4279,\n",
            "          -0.0414,  1.1322, -2.0253],\n",
            "         [-1.9513, -2.4766, -1.2778,  1.1809, -1.0611,  1.4543, -1.8356,\n",
            "          -0.8095,  0.5623, -2.1747],\n",
            "         [-1.6403, -1.9153, -1.3794,  0.3410, -0.4637,  1.4636, -0.6857,\n",
            "          -0.8097,  1.1822, -1.7644],\n",
            "         [-1.4482, -2.1283, -1.3600,  1.4208, -0.2813,  2.3073, -0.7141,\n",
            "          -0.7636,  0.7361, -1.2999],\n",
            "         [-1.9770, -2.4397, -1.2139,  1.3574, -1.1137,  1.8146, -0.8395,\n",
            "          -0.4587,  0.9917, -1.6917],\n",
            "         [-2.0998, -2.2411, -1.3255,  1.2213, -0.3785,  2.0556, -1.8274,\n",
            "          -0.8051,  0.4458, -2.0182],\n",
            "         [-2.0489, -1.9751, -1.2616,  1.0129, -0.5309,  1.9758, -1.3730,\n",
            "          -0.1486,  0.9511, -1.9019],\n",
            "         [-1.4468, -2.0780, -1.0906,  1.4244, -0.4043,  2.2915, -1.8463,\n",
            "          -0.2984,  0.8606, -1.8415],\n",
            "         [-1.9290, -2.0615, -0.7684,  1.2922, -0.2230,  2.1375, -1.4628,\n",
            "          -0.9893,  0.5159, -2.2880]],\n",
            "\n",
            "        [[-1.2351, -1.9691, -1.3236,  1.6206, -0.8332,  2.1998, -2.0702,\n",
            "          -0.2484,  0.1015, -2.0680],\n",
            "         [-1.8625, -0.9568, -1.4218,  0.8307, -1.0654,  2.1298, -2.5068,\n",
            "          -0.8296,  1.0440, -1.4685],\n",
            "         [-1.9887, -2.3277, -0.8121,  1.6638, -1.0088,  2.3558, -2.0125,\n",
            "          -0.9597,  0.3646, -1.2630],\n",
            "         [-2.6843, -2.4399, -0.9710,  1.0676, -0.7335,  1.9524, -1.5974,\n",
            "          -0.8913,  1.3101, -1.2738],\n",
            "         [-2.6152, -2.0289, -0.4141,  1.0903, -0.9330,  2.2823, -1.6704,\n",
            "          -0.5876,  0.5683, -1.5318],\n",
            "         [-3.0137, -1.7351, -1.5521,  0.6878, -0.9976,  2.1760, -2.0957,\n",
            "          -0.6583,  0.6231, -1.1111],\n",
            "         [-2.2254, -2.1589, -0.9396,  0.9326, -0.8027,  2.5541, -2.4435,\n",
            "          -0.7922,  0.7669, -1.6486],\n",
            "         [-2.3329, -2.4392, -1.1547,  0.7310, -1.1038,  2.4468, -2.2087,\n",
            "          -1.2776,  0.8576, -1.4524],\n",
            "         [-2.3671, -1.4122, -0.9572,  1.1409, -0.6148,  2.6742, -2.0581,\n",
            "          -1.2749,  0.8901, -1.7207],\n",
            "         [-2.2858, -2.4165, -1.1924,  1.4456, -1.2204,  3.5030, -1.9386,\n",
            "          -1.3261,  1.1988, -0.9524]],\n",
            "\n",
            "        [[-0.4302, -2.1580, -1.2838,  2.1652, -0.1246,  3.4146, -1.1080,\n",
            "           0.3723,  0.9477, -1.9892],\n",
            "         [-0.4743, -2.2929, -1.7624,  2.5732, -0.6187,  2.6442, -0.8011,\n",
            "          -0.1435,  0.1306, -2.6918],\n",
            "         [-0.7187, -2.2586, -1.3672,  2.3038, -0.3025,  2.9812, -1.7897,\n",
            "           0.2413,  0.4917, -2.0427],\n",
            "         [-0.9465, -2.4059, -2.0768,  2.4834, -1.0674,  2.8550, -1.9431,\n",
            "          -0.2130,  0.4536, -2.2521],\n",
            "         [-0.8208, -1.6683, -1.0218,  2.6451, -1.1078,  3.4019, -1.3113,\n",
            "          -0.1165,  0.4064, -2.1483],\n",
            "         [-1.0102, -1.7629, -1.3896,  2.1876, -0.1719,  2.6817, -1.4287,\n",
            "           0.3401,  0.4237, -2.2742],\n",
            "         [-0.7960, -2.1576, -0.9421,  1.5089, -0.7947,  2.5838, -1.5110,\n",
            "          -0.7835,  0.2151, -2.5129],\n",
            "         [-1.3733, -1.7727, -1.8625,  2.5335, -0.6838,  2.9741, -1.1116,\n",
            "           0.5192,  0.8035, -2.5167],\n",
            "         [-0.6933, -1.7562, -1.6576,  2.5239, -0.1879,  2.0809, -1.1883,\n",
            "           0.0670,  1.0028, -2.4549],\n",
            "         [-0.9365, -1.7573, -0.9888,  2.5446, -0.2475,  2.7409, -1.1579,\n",
            "           0.4510,  0.6318, -1.7936]]], grad_fn=<ViewBackward0>)\n"
          ]
        }
      ]
    },
    {
      "cell_type": "markdown",
      "source": [
        "## **测试**\n",
        "进行一个小测试，让transformer学习copy输入的随机序列到输出，当然transformer并不知道任务的目标就是copy，而是要自己发现规律。"
      ],
      "metadata": {
        "id": "8ON8MxdDS_lA"
      }
    },
    {
      "cell_type": "code",
      "source": [
        "vocab = 10 # 字典取值0~9，其中0作为序列起始标志\n",
        "length = 15 # 输入序列的长度\n",
        "model = Transformer(vocab=vocab, n_encoders=2, n_decoders=2, d_ff=2048, max_len=100, nheads=2, d_model=512).to(device)"
      ],
      "metadata": {
        "id": "IWAN9Z7YVXx8"
      },
      "execution_count": 51,
      "outputs": []
    },
    {
      "cell_type": "code",
      "source": [
        "class Batch:\n",
        "    def __init__(self, data):\n",
        "        self.src = data[:, 1:]\n",
        "        self.tgt = data[:, :-1]  # 输入decoder的output，不包含最后一个position\n",
        "        self.tgt_y = self.src # 原始target，不包含起始符\n",
        "\n",
        "def data_gen(batch_size, nbatches):\n",
        "    for i in range(nbatches):\n",
        "        data = torch.randint(1, vocab, size=(batch_size, length), requires_grad=False)\n",
        "        data[:, 0] = 0\n",
        "        yield Batch(data)\n",
        "\n",
        "def test_gen():\n",
        "    gen = data_gen(5, 1)\n",
        "    batch = next(gen)\n",
        "    print(batch.src, \"\\n\", batch.tgt, \"\\n\", batch.tgt_y)\n",
        "\n",
        "test_gen()"
      ],
      "metadata": {
        "colab": {
          "base_uri": "https://localhost:8080/"
        },
        "id": "Rs3pLlH2M-Se",
        "outputId": "2c896237-8fbc-4584-e52a-2785be4a65f6"
      },
      "execution_count": 52,
      "outputs": [
        {
          "output_type": "stream",
          "name": "stdout",
          "text": [
            "tensor([[6, 6, 1, 9, 8, 6, 9, 7, 9, 2, 8, 7, 5, 2],\n",
            "        [8, 8, 9, 1, 6, 3, 7, 2, 1, 9, 5, 6, 5, 8],\n",
            "        [3, 3, 9, 5, 4, 5, 5, 2, 8, 8, 4, 2, 2, 8],\n",
            "        [6, 2, 4, 6, 8, 9, 7, 7, 4, 1, 2, 8, 5, 8],\n",
            "        [6, 4, 5, 5, 7, 9, 8, 2, 6, 7, 1, 2, 3, 6]]) \n",
            " tensor([[0, 6, 6, 1, 9, 8, 6, 9, 7, 9, 2, 8, 7, 5],\n",
            "        [0, 8, 8, 9, 1, 6, 3, 7, 2, 1, 9, 5, 6, 5],\n",
            "        [0, 3, 3, 9, 5, 4, 5, 5, 2, 8, 8, 4, 2, 2],\n",
            "        [0, 6, 2, 4, 6, 8, 9, 7, 7, 4, 1, 2, 8, 5],\n",
            "        [0, 6, 4, 5, 5, 7, 9, 8, 2, 6, 7, 1, 2, 3]]) \n",
            " tensor([[6, 6, 1, 9, 8, 6, 9, 7, 9, 2, 8, 7, 5, 2],\n",
            "        [8, 8, 9, 1, 6, 3, 7, 2, 1, 9, 5, 6, 5, 8],\n",
            "        [3, 3, 9, 5, 4, 5, 5, 2, 8, 8, 4, 2, 2, 8],\n",
            "        [6, 2, 4, 6, 8, 9, 7, 7, 4, 1, 2, 8, 5, 8],\n",
            "        [6, 4, 5, 5, 7, 9, 8, 2, 6, 7, 1, 2, 3, 6]])\n"
          ]
        }
      ]
    },
    {
      "cell_type": "code",
      "source": [
        "def rate(step, model_size, factor, warmup):\n",
        "    if step == 0:\n",
        "        step = 1\n",
        "    return factor * (\n",
        "        model_size ** (-0.5) * min(step ** (-0.5), step * warmup ** (-1.5))\n",
        "    )\n",
        "\n",
        "optimizer = optim.Adam(model.parameters(), lr=0.5, betas=(0.9, 0.98), eps=1e-9)\n",
        "\n",
        "lr_scheduler = optim.lr_scheduler.LambdaLR(\n",
        "    optimizer=optimizer,\n",
        "    lr_lambda=lambda step: rate(\n",
        "        step, model_size=model.d_model, factor=1.0, warmup=400\n",
        "    )\n",
        ")\n",
        "\n",
        "loss_fn = nn.CrossEntropyLoss()"
      ],
      "metadata": {
        "id": "l_hfs7unBTgg"
      },
      "execution_count": 53,
      "outputs": []
    },
    {
      "cell_type": "code",
      "source": [
        "def train(model, train_data):\n",
        "    model.train()\n",
        "    total_loss = 0.\n",
        "    log_interval = 5\n",
        "    start_time = time.time()\n",
        "\n",
        "    for i, batch in enumerate(train_data):\n",
        "        output = model(batch.src.to(device), batch.tgt.to(device))\n",
        "        loss = loss_fn(output.reshape(-1, vocab), batch.tgt_y.to(device).reshape(-1))  # 需要先把output变成(N*t, C)，才能输入损失函数\n",
        "        optimizer.zero_grad()\n",
        "        loss.backward()\n",
        "        optimizer.step()\n",
        "        total_loss += loss.item()\n",
        "        if i % log_interval == 0 and i > 0:\n",
        "            lr = lr_scheduler.get_last_lr()[0]\n",
        "            ms_per_batch = (time.time() - start_time) * 1000 / log_interval\n",
        "            cur_loss = total_loss / log_interval\n",
        "            print(f'| {i:5d}/{nbatches:5d} batches | '\n",
        "                  f'lr {lr:5.2e} | ms/batch {ms_per_batch:5.2f} | '\n",
        "                  f'loss {cur_loss:5.2f}')\n",
        "            total_loss = 0\n",
        "            start_time = time.time()\n",
        "        lr_scheduler.step()\n",
        "\n",
        "def evaluate(model, eval_data):\n",
        "    model.eval()  # turn on evaluation mode\n",
        "    total_loss = 0.\n",
        "    with torch.no_grad():\n",
        "        for i, batch in enumerate(eval_data):\n",
        "            output = model(batch.src.to(device), batch.tgt.to(device))\n",
        "            loss = loss_fn(output.reshape(-1, vocab), batch.tgt_y.to(device).reshape(-1))\n",
        "            total_loss += loss.item()\n",
        "    return total_loss / (i + 1)"
      ],
      "metadata": {
        "id": "AWWsd-jRNKfE"
      },
      "execution_count": 54,
      "outputs": []
    },
    {
      "cell_type": "code",
      "source": [
        "nbatches = 20   # 每个epoch的batch数\n",
        "batch_size = 80 # 每个batch的数据量\n",
        "val_nbatches = 5    # 每个epoch测试用的batch数\n",
        "\n",
        "best_val_loss = float('inf')\n",
        "epochs = 20\n",
        "best_model = None\n",
        "\n",
        "for epoch in range(1, epochs + 1):\n",
        "    epoch_start_time = time.time()\n",
        "    train(model, data_gen(batch_size, nbatches))\n",
        "    print(\"-\" * 65)\n",
        "    val_loss = evaluate(model, data_gen(val_nbatches, batch_size))\n",
        "    elapsed = time.time() - epoch_start_time\n",
        "    print(f'| end of epoch {epoch:3d} | time: {elapsed:5.2f}s | '\n",
        "          f'valid loss {val_loss:5.2f}')\n",
        "    print('-' * 65)\n",
        "    if val_loss < best_val_loss:\n",
        "        best_val_loss = val_loss\n",
        "        best_model = copy.deepcopy(model).cpu()"
      ],
      "metadata": {
        "colab": {
          "base_uri": "https://localhost:8080/"
        },
        "id": "-AX28w59fOpc",
        "outputId": "a0097dae-f8ee-4ba5-e7fa-d6b704e82b62"
      },
      "execution_count": 60,
      "outputs": [
        {
          "output_type": "stream",
          "name": "stdout",
          "text": [
            "|     5/   20 batches | lr 7.79e-04 | ms/batch 61.59 | loss  0.09\n",
            "|    10/   20 batches | lr 7.76e-04 | ms/batch 40.16 | loss  0.08\n",
            "|    15/   20 batches | lr 7.74e-04 | ms/batch 39.59 | loss  0.06\n",
            "-----------------------------------------------------------------\n",
            "| end of epoch   1 | time:  1.22s | valid loss  0.03\n",
            "-----------------------------------------------------------------\n",
            "|     5/   20 batches | lr 7.69e-04 | ms/batch 47.93 | loss  0.17\n",
            "|    10/   20 batches | lr 7.67e-04 | ms/batch 40.22 | loss  0.09\n",
            "|    15/   20 batches | lr 7.65e-04 | ms/batch 40.47 | loss  0.11\n",
            "-----------------------------------------------------------------\n",
            "| end of epoch   2 | time:  1.17s | valid loss  0.02\n",
            "-----------------------------------------------------------------\n",
            "|     5/   20 batches | lr 7.60e-04 | ms/batch 46.19 | loss  0.09\n",
            "|    10/   20 batches | lr 7.58e-04 | ms/batch 40.47 | loss  0.07\n",
            "|    15/   20 batches | lr 7.56e-04 | ms/batch 39.58 | loss  0.14\n",
            "-----------------------------------------------------------------\n",
            "| end of epoch   3 | time:  1.15s | valid loss  0.10\n",
            "-----------------------------------------------------------------\n",
            "|     5/   20 batches | lr 7.51e-04 | ms/batch 46.93 | loss  0.21\n",
            "|    10/   20 batches | lr 7.49e-04 | ms/batch 40.14 | loss  0.14\n",
            "|    15/   20 batches | lr 7.47e-04 | ms/batch 40.32 | loss  0.11\n",
            "-----------------------------------------------------------------\n",
            "| end of epoch   4 | time:  1.15s | valid loss  0.01\n",
            "-----------------------------------------------------------------\n",
            "|     5/   20 batches | lr 7.43e-04 | ms/batch 46.94 | loss  0.09\n",
            "|    10/   20 batches | lr 7.41e-04 | ms/batch 39.72 | loss  0.08\n",
            "|    15/   20 batches | lr 7.39e-04 | ms/batch 40.22 | loss  0.09\n",
            "-----------------------------------------------------------------\n",
            "| end of epoch   5 | time:  1.15s | valid loss  0.04\n",
            "-----------------------------------------------------------------\n",
            "|     5/   20 batches | lr 7.35e-04 | ms/batch 47.58 | loss  0.19\n",
            "|    10/   20 batches | lr 7.33e-04 | ms/batch 40.14 | loss  0.17\n",
            "|    15/   20 batches | lr 7.31e-04 | ms/batch 40.86 | loss  0.11\n",
            "-----------------------------------------------------------------\n",
            "| end of epoch   6 | time:  1.17s | valid loss  0.03\n",
            "-----------------------------------------------------------------\n",
            "|     5/   20 batches | lr 7.27e-04 | ms/batch 47.48 | loss  0.09\n",
            "|    10/   20 batches | lr 7.25e-04 | ms/batch 40.05 | loss  0.06\n",
            "|    15/   20 batches | lr 7.23e-04 | ms/batch 40.46 | loss  0.07\n",
            "-----------------------------------------------------------------\n",
            "| end of epoch   7 | time:  1.15s | valid loss  0.01\n",
            "-----------------------------------------------------------------\n",
            "|     5/   20 batches | lr 7.19e-04 | ms/batch 48.24 | loss  0.11\n",
            "|    10/   20 batches | lr 7.17e-04 | ms/batch 40.10 | loss  0.10\n",
            "|    15/   20 batches | lr 7.15e-04 | ms/batch 40.48 | loss  0.06\n",
            "-----------------------------------------------------------------\n",
            "| end of epoch   8 | time:  1.14s | valid loss  0.01\n",
            "-----------------------------------------------------------------\n",
            "|     5/   20 batches | lr 7.11e-04 | ms/batch 48.52 | loss  0.10\n",
            "|    10/   20 batches | lr 7.09e-04 | ms/batch 41.01 | loss  0.07\n",
            "|    15/   20 batches | lr 7.08e-04 | ms/batch 41.31 | loss  0.05\n",
            "-----------------------------------------------------------------\n",
            "| end of epoch   9 | time:  1.16s | valid loss  0.01\n",
            "-----------------------------------------------------------------\n",
            "|     5/   20 batches | lr 7.04e-04 | ms/batch 47.57 | loss  0.11\n",
            "|    10/   20 batches | lr 7.02e-04 | ms/batch 41.57 | loss  0.08\n",
            "|    15/   20 batches | lr 7.01e-04 | ms/batch 40.46 | loss  0.06\n",
            "-----------------------------------------------------------------\n",
            "| end of epoch  10 | time:  1.17s | valid loss  0.01\n",
            "-----------------------------------------------------------------\n",
            "|     5/   20 batches | lr 6.97e-04 | ms/batch 46.78 | loss  0.17\n",
            "|    10/   20 batches | lr 6.95e-04 | ms/batch 40.30 | loss  0.07\n",
            "|    15/   20 batches | lr 6.94e-04 | ms/batch 40.13 | loss  0.07\n",
            "-----------------------------------------------------------------\n",
            "| end of epoch  11 | time:  1.15s | valid loss  0.00\n",
            "-----------------------------------------------------------------\n",
            "|     5/   20 batches | lr 6.90e-04 | ms/batch 48.27 | loss  0.07\n",
            "|    10/   20 batches | lr 6.89e-04 | ms/batch 40.61 | loss  0.09\n",
            "|    15/   20 batches | lr 6.87e-04 | ms/batch 40.32 | loss  0.13\n",
            "-----------------------------------------------------------------\n",
            "| end of epoch  12 | time:  1.15s | valid loss  0.05\n",
            "-----------------------------------------------------------------\n",
            "|     5/   20 batches | lr 6.84e-04 | ms/batch 48.62 | loss  0.21\n",
            "|    10/   20 batches | lr 6.82e-04 | ms/batch 41.36 | loss  0.16\n",
            "|    15/   20 batches | lr 6.80e-04 | ms/batch 40.69 | loss  0.11\n",
            "-----------------------------------------------------------------\n",
            "| end of epoch  13 | time:  1.16s | valid loss  0.02\n",
            "-----------------------------------------------------------------\n",
            "|     5/   20 batches | lr 6.77e-04 | ms/batch 48.18 | loss  0.13\n",
            "|    10/   20 batches | lr 6.76e-04 | ms/batch 40.68 | loss  0.06\n",
            "|    15/   20 batches | lr 6.74e-04 | ms/batch 40.97 | loss  0.07\n",
            "-----------------------------------------------------------------\n",
            "| end of epoch  14 | time:  1.16s | valid loss  0.01\n",
            "-----------------------------------------------------------------\n",
            "|     5/   20 batches | lr 6.71e-04 | ms/batch 47.50 | loss  0.05\n",
            "|    10/   20 batches | lr 6.69e-04 | ms/batch 40.64 | loss  0.06\n",
            "|    15/   20 batches | lr 6.68e-04 | ms/batch 41.76 | loss  0.08\n",
            "-----------------------------------------------------------------\n",
            "| end of epoch  15 | time:  1.17s | valid loss  0.05\n",
            "-----------------------------------------------------------------\n",
            "|     5/   20 batches | lr 6.65e-04 | ms/batch 47.84 | loss  0.13\n",
            "|    10/   20 batches | lr 6.63e-04 | ms/batch 40.58 | loss  0.06\n",
            "|    15/   20 batches | lr 6.62e-04 | ms/batch 40.56 | loss  0.07\n",
            "-----------------------------------------------------------------\n",
            "| end of epoch  16 | time:  1.18s | valid loss  0.00\n",
            "-----------------------------------------------------------------\n",
            "|     5/   20 batches | lr 6.59e-04 | ms/batch 47.83 | loss  0.07\n",
            "|    10/   20 batches | lr 6.57e-04 | ms/batch 40.14 | loss  0.08\n",
            "|    15/   20 batches | lr 6.56e-04 | ms/batch 41.21 | loss  0.06\n",
            "-----------------------------------------------------------------\n",
            "| end of epoch  17 | time:  1.18s | valid loss  0.00\n",
            "-----------------------------------------------------------------\n",
            "|     5/   20 batches | lr 6.53e-04 | ms/batch 47.77 | loss  0.06\n",
            "|    10/   20 batches | lr 6.52e-04 | ms/batch 40.57 | loss  0.04\n",
            "|    15/   20 batches | lr 6.50e-04 | ms/batch 40.68 | loss  0.04\n",
            "-----------------------------------------------------------------\n",
            "| end of epoch  18 | time:  1.17s | valid loss  0.01\n",
            "-----------------------------------------------------------------\n",
            "|     5/   20 batches | lr 6.47e-04 | ms/batch 48.55 | loss  0.05\n",
            "|    10/   20 batches | lr 6.46e-04 | ms/batch 40.99 | loss  0.05\n",
            "|    15/   20 batches | lr 6.45e-04 | ms/batch 41.34 | loss  0.05\n",
            "-----------------------------------------------------------------\n",
            "| end of epoch  19 | time:  1.18s | valid loss  0.00\n",
            "-----------------------------------------------------------------\n",
            "|     5/   20 batches | lr 6.42e-04 | ms/batch 48.72 | loss  0.05\n",
            "|    10/   20 batches | lr 6.41e-04 | ms/batch 41.07 | loss  0.03\n",
            "|    15/   20 batches | lr 6.39e-04 | ms/batch 41.35 | loss  0.02\n",
            "-----------------------------------------------------------------\n",
            "| end of epoch  20 | time:  1.17s | valid loss  0.00\n",
            "-----------------------------------------------------------------\n"
          ]
        }
      ]
    },
    {
      "cell_type": "code",
      "source": [
        "def greedy_decode(model, src, max_len, start_symbol):\n",
        "    '''\n",
        "    训练好的模型用auto-regressive的方式生成序列\n",
        "    '''\n",
        "    memory = model.encode(src)\n",
        "    ys = torch.zeros(1, 1).fill_(start_symbol).type_as(src.data)\n",
        "    for i in range(max_len):\n",
        "        out = model.decode(ys, memory)[:, -1]\n",
        "        _, next_word = torch.max(out, dim=1)\n",
        "        next_word = next_word[0].item()\n",
        "        ys = torch.cat(\n",
        "            [ys, torch.zeros(1, 1).type_as(src.data).fill_(next_word)], dim=1\n",
        "        )\n",
        "        print(f\"第{i+1}次生成:\", ys)\n",
        "    return ys[:, 1:]\n",
        "\n",
        "src = torch.randint(1, vocab, size=(1, length))\n",
        "out = greedy_decode(best_model, src, length, 0)\n",
        "print(\"src is: \", src[0])\n",
        "print(\"out is: \", out[0])"
      ],
      "metadata": {
        "colab": {
          "base_uri": "https://localhost:8080/"
        },
        "id": "SLMnYU10t3If",
        "outputId": "36259157-5c2a-4c47-d95a-5e8956e2753e"
      },
      "execution_count": 62,
      "outputs": [
        {
          "output_type": "stream",
          "name": "stdout",
          "text": [
            "第1次生成: tensor([[0, 7]])\n",
            "第2次生成: tensor([[0, 7, 9]])\n",
            "第3次生成: tensor([[0, 7, 9, 1]])\n",
            "第4次生成: tensor([[0, 7, 9, 1, 6]])\n",
            "第5次生成: tensor([[0, 7, 9, 1, 6, 4]])\n",
            "第6次生成: tensor([[0, 7, 9, 1, 6, 4, 9]])\n",
            "第7次生成: tensor([[0, 7, 9, 1, 6, 4, 9, 8]])\n",
            "第8次生成: tensor([[0, 7, 9, 1, 6, 4, 9, 8, 4]])\n",
            "第9次生成: tensor([[0, 7, 9, 1, 6, 4, 9, 8, 4, 1]])\n",
            "第10次生成: tensor([[0, 7, 9, 1, 6, 4, 9, 8, 4, 1, 9]])\n",
            "第11次生成: tensor([[0, 7, 9, 1, 6, 4, 9, 8, 4, 1, 9, 9]])\n",
            "第12次生成: tensor([[0, 7, 9, 1, 6, 4, 9, 8, 4, 1, 9, 9, 5]])\n",
            "第13次生成: tensor([[0, 7, 9, 1, 6, 4, 9, 8, 4, 1, 9, 9, 5, 5]])\n",
            "第14次生成: tensor([[0, 7, 9, 1, 6, 4, 9, 8, 4, 1, 9, 9, 5, 5, 4]])\n",
            "第15次生成: tensor([[0, 7, 9, 1, 6, 4, 9, 8, 4, 1, 9, 9, 5, 5, 4, 8]])\n",
            "src is:  tensor([7, 9, 1, 6, 4, 9, 8, 4, 1, 9, 9, 5, 5, 4, 8])\n",
            "out is:  tensor([7, 9, 1, 6, 4, 9, 8, 4, 1, 9, 9, 5, 5, 4, 8])\n"
          ]
        }
      ]
    },
    {
      "cell_type": "code",
      "source": [],
      "metadata": {
        "id": "hsnmTOgowItJ"
      },
      "execution_count": null,
      "outputs": []
    }
  ]
}